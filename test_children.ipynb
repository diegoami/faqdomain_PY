{
 "cells": [
  {
   "cell_type": "code",
   "execution_count": 22,
   "metadata": {},
   "outputs": [],
   "source": [
    "import spacy\n",
    "\n"
   ]
  },
  {
   "cell_type": "code",
   "execution_count": 23,
   "metadata": {},
   "outputs": [],
   "source": [
    "nlp = spacy.load('de')"
   ]
  },
  {
   "cell_type": "code",
   "execution_count": 3,
   "metadata": {},
   "outputs": [],
   "source": [
    "doc = nlp(\"Die Regelung garantiert Sicht- und Spareinlagen sowie registrierte Schuldverschreibungen, Bankobligationen und Sparbriefe.\")"
   ]
  },
  {
   "cell_type": "code",
   "execution_count": 5,
   "metadata": {},
   "outputs": [
    {
     "name": "stdout",
     "output_type": "stream",
     "text": [
      "Die DET ART []\n",
      "Regelung NOUN NN [Die]\n",
      "garantiert VERB VVFIN [Regelung, Spareinlagen, .]\n",
      "Sicht- X TRUNC []\n",
      "und CONJ KON [Sicht-]\n",
      "Spareinlagen NOUN NN [und, sowie]\n",
      "sowie CONJ KON [Schuldverschreibungen]\n",
      "registrierte ADJ ADJA []\n",
      "Schuldverschreibungen NOUN NN [registrierte, ,, Bankobligationen]\n",
      ", PUNCT $, []\n",
      "Bankobligationen NOUN NN [und]\n",
      "und CONJ KON [Sparbriefe]\n",
      "Sparbriefe NOUN NN []\n",
      ". PUNCT $. []\n"
     ]
    }
   ],
   "source": [
    "for token in doc:\n",
    "    print(token, token.pos_, token.tag_, [child for child in token.children])"
   ]
  },
  {
   "cell_type": "code",
   "execution_count": 9,
   "metadata": {},
   "outputs": [],
   "source": [
    "doc = nlp(\"Schutz für Giro- und Sparkonten (Tagesgeld- und Festgeldkonten)\")"
   ]
  },
  {
   "cell_type": "code",
   "execution_count": 10,
   "metadata": {},
   "outputs": [
    {
     "name": "stdout",
     "output_type": "stream",
     "text": [
      "Schutz NOUN NN [für]\n",
      "für ADP APPR [Sparkonten]\n",
      "Giro- X TRUNC []\n",
      "und CONJ KON [Giro-]\n",
      "Sparkonten NOUN NN [und, Festgeldkonten]\n",
      "( PUNCT $( []\n",
      "Tagesgeld- X TRUNC []\n",
      "und CONJ KON [Tagesgeld-]\n",
      "Festgeldkonten NOUN NN [(, und, )]\n",
      ") PUNCT $( []\n"
     ]
    }
   ],
   "source": [
    "for token in doc:\n",
    "    print(token, token.pos_, token.tag_, [child for child in token.children])"
   ]
  },
  {
   "cell_type": "code",
   "execution_count": 14,
   "metadata": {},
   "outputs": [],
   "source": [
    "doc = nlp(\"Wenn Sie einen Computer benutzen, an dem auch andere arbeiten und Sie das ungute Gefühl haben, dass diese eventuell versteckte Seiten einsehen könnten, nachdem Sie die Station verlassen haben, beenden / verlassen Sie Ihre Browser-Software\")"
   ]
  },
  {
   "cell_type": "code",
   "execution_count": 15,
   "metadata": {},
   "outputs": [
    {
     "name": "stdout",
     "output_type": "stream",
     "text": [
      "Wenn SCONJ KOUS []\n",
      "Sie PRON PPER []\n",
      "einen DET ART []\n",
      "Computer NOUN NN [einen, arbeiten]\n",
      "benutzen VERB VVINF [Wenn, Sie, Computer, ,]\n",
      ", PUNCT $, []\n",
      "an ADP APPR [dem]\n",
      "dem PRON PRELS []\n",
      "auch ADV ADV []\n",
      "andere PRON PIS []\n",
      "arbeiten VERB VVFIN [an, auch, andere, und]\n",
      "und CONJ KON [haben]\n",
      "Sie PRON PPER []\n",
      "das DET ART []\n",
      "ungute ADJ ADJA []\n",
      "Gefühl NOUN NN [das, ungute, könnten]\n",
      "haben AUX VAFIN [Sie, Gefühl, ,]\n",
      ", PUNCT $, []\n",
      "dass SCONJ KOUS []\n",
      "diese PRON PDS []\n",
      "eventuell ADJ ADJD []\n",
      "versteckte ADJ ADJA [eventuell]\n",
      "Seiten NOUN NN [diese, versteckte]\n",
      "einsehen VERB VVINF []\n",
      "könnten VERB VMFIN [dass, Seiten, einsehen, ,, haben]\n",
      ", PUNCT $, []\n",
      "nachdem SCONJ KOUS []\n",
      "Sie PRON PPER []\n",
      "die DET ART []\n",
      "Station NOUN NN [die]\n",
      "verlassen VERB VVPP [Station]\n",
      "haben AUX VAFIN [nachdem, Sie, verlassen]\n",
      ", PUNCT $, []\n",
      "beenden VERB VVFIN [benutzen, ,]\n",
      "/ PROPN NE []\n",
      "verlassen VERB VVFIN [beenden, /, Sie, Browser-Software]\n",
      "Sie PRON PPER []\n",
      "Ihre DET PPOSAT []\n",
      "Browser-Software NOUN NN [Ihre]\n"
     ]
    }
   ],
   "source": [
    "for token in doc:\n",
    "    print(token, token.pos_, token.tag_, [child for child in token.children])"
   ]
  },
  {
   "cell_type": "code",
   "execution_count": 24,
   "metadata": {},
   "outputs": [],
   "source": [
    "doc = nlp(\"Wichtig dabei ist, dass die Gutschrift von Ihrem Arbeitgeber korrekt als Lohn / Gehalt verschlüsselt wurde. Anderenfalls kann diese maschinell nicht als Lohn- / Gehaltseingang erkannt werden.\")"
   ]
  },
  {
   "cell_type": "code",
   "execution_count": 25,
   "metadata": {},
   "outputs": [
    {
     "name": "stdout",
     "output_type": "stream",
     "text": [
      "Wichtig Wichtig ADJ ADJD []\n",
      "dabei dabei ADV PROAV []\n",
      "ist ist AUX VAFIN [Wichtig, dabei, ,, wurde, .]\n",
      ", , PUNCT $, []\n",
      "dass dass SCONJ KOUS []\n",
      "die die DET ART []\n",
      "Gutschrift Gutschrift NOUN NN [die, von]\n",
      "von von ADP APPR [Arbeitgeber]\n",
      "Ihrem Ihrem DET PPOSAT []\n",
      "Arbeitgeber Arbeitgeber NOUN NN [Ihrem]\n",
      "korrekt korrekt ADJ ADJD [als, /]\n",
      "als als ADP APPR [Lohn]\n",
      "Lohn Lohn NOUN NN []\n",
      "/ / ADJ ADJA []\n",
      "Gehalt Gehalt NOUN NN []\n",
      "verschlüsselt verschlüsselt VERB VVPP [korrekt]\n",
      "wurde wurde AUX VAFIN [dass, Gutschrift, Gehalt, verschlüsselt]\n",
      ". . PUNCT $. []\n",
      "Anderenfalls Anderenfalls ADV ADV []\n",
      "kann kann VERB VMFIN [Anderenfalls, maschinell, nicht, werden, .]\n",
      "diese diese PRON PDS []\n",
      "maschinell maschinell ADJ ADJD []\n",
      "nicht nicht PART PTKNEG []\n",
      "als als ADP APPR [Gehaltseingang]\n",
      "Lohn- Lohn- X TRUNC []\n",
      "/ / ADJ ADJA [Lohn-]\n",
      "Gehaltseingang Gehaltseingang NOUN NN [/]\n",
      "erkannt erkannt VERB VVPP [als]\n",
      "werden werden AUX VAINF [diese, erkannt]\n",
      ". . PUNCT $. []\n"
     ]
    }
   ],
   "source": [
    "for token in doc:\n",
    "    print(token, token.text, token.pos_, token.tag_, [child for child in token.children])"
   ]
  },
  {
   "cell_type": "code",
   "execution_count": 26,
   "metadata": {},
   "outputs": [],
   "source": [
    "PUNKT_PREPROCESS = [\"/\", \"<\", \">\", \"*\", \"=\", \"–\"]\n"
   ]
  },
  {
   "cell_type": "code",
   "execution_count": 27,
   "metadata": {},
   "outputs": [
    {
     "name": "stdout",
     "output_type": "stream",
     "text": [
      "/\n",
      "/\n"
     ]
    }
   ],
   "source": [
    "for token in doc:\n",
    "    if token.text in PUNKT_PREPROCESS:\n",
    "        print(token)"
   ]
  },
  {
   "cell_type": "code",
   "execution_count": null,
   "metadata": {},
   "outputs": [],
   "source": []
  }
 ],
 "metadata": {
  "kernelspec": {
   "display_name": "Python 3",
   "language": "python",
   "name": "python3"
  },
  "language_info": {
   "codemirror_mode": {
    "name": "ipython",
    "version": 3
   },
   "file_extension": ".py",
   "mimetype": "text/x-python",
   "name": "python",
   "nbconvert_exporter": "python",
   "pygments_lexer": "ipython3",
   "version": "3.6.5"
  }
 },
 "nbformat": 4,
 "nbformat_minor": 2
}
